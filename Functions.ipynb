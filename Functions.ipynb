{
 "cells": [
  {
   "cell_type": "markdown",
   "id": "442a0cb8",
   "metadata": {},
   "source": [
    "# functions"
   ]
  },
  {
   "cell_type": "markdown",
   "id": "b3a024cf",
   "metadata": {},
   "source": [
    " ### two types\n",
    " ### built in\n",
    "### user define"
   ]
  },
  {
   "cell_type": "code",
   "execution_count": 3,
   "id": "7f520f6f",
   "metadata": {},
   "outputs": [
    {
     "name": "stdout",
     "output_type": "stream",
     "text": [
      "welcome function topic\n",
      "outside the function\n",
      "enter the 1st number4\n",
      "enter the 2nd number6\n",
      "10\n",
      "outside the function\n",
      "enter the 1st number4\n",
      "enter the 2nd number6\n",
      "10\n"
     ]
    }
   ],
   "source": [
    "# case 1: without arguments without return type\n",
    "print('welcome function topic')\n",
    "def addtwonumbers():\n",
    "    num1=int(input(\"enter the 1st number\"))\n",
    "    num2=int(input(\"enter the 2nd number\"))\n",
    "    c=num1+num2\n",
    "    print(c)\n",
    "print(\"outside the function\")\n",
    "addtwonumbers()\n",
    "print(\"outside the function\")\n",
    "addtwonumbers()\n",
    "        \n",
    "        "
   ]
  },
  {
   "cell_type": "code",
   "execution_count": 3,
   "id": "a7bbddfb",
   "metadata": {},
   "outputs": [
    {
     "name": "stdout",
     "output_type": "stream",
     "text": [
      "enter the 1st number2\n",
      "enter the 2nd number5\n",
      "7\n"
     ]
    }
   ],
   "source": [
    "addtwonumbers()"
   ]
  },
  {
   "cell_type": "code",
   "execution_count": 4,
   "id": "21c551e3",
   "metadata": {},
   "outputs": [
    {
     "name": "stdout",
     "output_type": "stream",
     "text": [
      "enter the 1st number5\n",
      "enter the 2nd number8\n",
      "13\n"
     ]
    }
   ],
   "source": [
    "# case 2: with arguments without return type\n",
    "def addtwonumbers(n1,n2):#formal argument\n",
    "    c=n1+n2\n",
    "    print(c)\n",
    "num1=int(input(\"enter the 1st number\"))\n",
    "num2=int(input(\"enter the 2nd number\"))\n",
    "addtwonumbers(num1,num2) #actual argument\n",
    "\n",
    "\n"
   ]
  },
  {
   "cell_type": "code",
   "execution_count": 7,
   "id": "43499b25",
   "metadata": {},
   "outputs": [
    {
     "name": "stdout",
     "output_type": "stream",
     "text": [
      "out side the function\n",
      "enter the 1st number5\n",
      "enter the 2nd number8\n",
      "13\n"
     ]
    }
   ],
   "source": [
    "# case 3: without arguments with return type\n",
    "def addtwonumbers():\n",
    "    num1=int(input(\"enter the 1st number\"))\n",
    "    num2=int(input(\"enter the 2nd number\"))\n",
    "    c=num1+num2\n",
    "    return c\n",
    "print(\"out side the function\")\n",
    "k=addtwonumbers()\n",
    "print(k)\n",
    "\n",
    "    \n"
   ]
  },
  {
   "cell_type": "code",
   "execution_count": 8,
   "id": "5753e7d3",
   "metadata": {},
   "outputs": [
    {
     "data": {
      "text/plain": [
       "13"
      ]
     },
     "execution_count": 8,
     "metadata": {},
     "output_type": "execute_result"
    }
   ],
   "source": [
    "k\n"
   ]
  },
  {
   "cell_type": "code",
   "execution_count": 9,
   "id": "35464d51",
   "metadata": {},
   "outputs": [
    {
     "name": "stdout",
     "output_type": "stream",
     "text": [
      "outside the function\n",
      "enter the 1st number5\n",
      "enter the 2nd number2\n",
      "7\n"
     ]
    }
   ],
   "source": [
    "# case 4: with arguments with return type\n",
    "def addtwonumbers(n1,n2):\n",
    "    c=n1+n2\n",
    "    return c\n",
    "print(\"outside the function\")\n",
    "num1=int(input(\"enter the 1st number\"))\n",
    "num2=int(input(\"enter the 2nd number\"))\n",
    "k=addtwonumbers(num1,num2)\n",
    "print(k)\n",
    "    \n",
    "    "
   ]
  },
  {
   "cell_type": "code",
   "execution_count": 13,
   "id": "cf85d73d",
   "metadata": {},
   "outputs": [
    {
     "name": "stdout",
     "output_type": "stream",
     "text": [
      "enter the number5\n",
      "odd number\n"
     ]
    }
   ],
   "source": [
    "# waf to check weather the number is even or odd\n",
    "\n",
    "def evenorodd():\n",
    "    num=int(input(\"enter the number\"))\n",
    "    if num%2==0:\n",
    "        print(\"even number\")\n",
    "    else:\n",
    "        print(\"odd number\")\n",
    "evenorodd()\n",
    "        "
   ]
  },
  {
   "cell_type": "code",
   "execution_count": 14,
   "id": "b027a43d",
   "metadata": {},
   "outputs": [
    {
     "name": "stdout",
     "output_type": "stream",
     "text": [
      "enter the number8\n",
      "even number\n"
     ]
    }
   ],
   "source": [
    "def evenorodd(n1):\n",
    "    if n1%2==0:\n",
    "        print(\"even number\")\n",
    "    else:\n",
    "        print(\"odd number\")\n",
    "num1=int(input(\"enter the number\"))\n",
    "evenorodd(num1)"
   ]
  },
  {
   "cell_type": "code",
   "execution_count": 19,
   "id": "cf6d4316",
   "metadata": {},
   "outputs": [
    {
     "name": "stdout",
     "output_type": "stream",
     "text": [
      "enter the number8\n",
      "8 even\n"
     ]
    }
   ],
   "source": [
    "def evenorodd():\n",
    "    num=int(input(\"enter the number\"))\n",
    "    if num%2==0:\n",
    "        return num,\"even\"\n",
    "    else:\n",
    "        return num,\"odd\"\n",
    "k,j=evenorodd()\n",
    "print(k,j)\n",
    "\n",
    "    "
   ]
  },
  {
   "cell_type": "code",
   "execution_count": 1,
   "id": "c8be9aba",
   "metadata": {},
   "outputs": [
    {
     "name": "stdout",
     "output_type": "stream",
     "text": [
      "enter the number9\n",
      "(9, 'odd')\n"
     ]
    }
   ],
   "source": [
    "def evenorodd(n1):\n",
    "    if n1%2==0:\n",
    "        return n1,\"even\"\n",
    "    else:\n",
    "        return n1,\"odd\"\n",
    "num1=int(input(\"enter the number\"))\n",
    "k=evenorodd(num1)\n",
    "print(k)\n",
    "\n",
    "    "
   ]
  },
  {
   "cell_type": "code",
   "execution_count": null,
   "id": "d51f8344",
   "metadata": {},
   "outputs": [],
   "source": [
    "k\n"
   ]
  },
  {
   "cell_type": "code",
   "execution_count": 2,
   "id": "40e6a060",
   "metadata": {},
   "outputs": [
    {
     "name": "stdout",
     "output_type": "stream",
     "text": [
      "hello\n",
      "enter the namerajat\n",
      "hi rajat\n"
     ]
    }
   ],
   "source": [
    "print(\"hello\")\n",
    "def dispaly(name):\n",
    "    return name\n",
    "    print('inside the function')# TERMINATED BY RETURN\n",
    "name1=input(\"enter the name\")\n",
    "k=dispaly(name1)\n",
    "print(\"hi\",k)\n",
    "\n",
    "\n"
   ]
  },
  {
   "cell_type": "code",
   "execution_count": 7,
   "id": "c7c78333",
   "metadata": {},
   "outputs": [
    {
     "name": "stdout",
     "output_type": "stream",
     "text": [
      "enter the lenght of Rectangle5\n",
      "enternthe breath of rectangle4\n",
      "20\n"
     ]
    }
   ],
   "source": [
    "#WAF TO DISPALY THE AREA OF RECTANGLE WITH ALL 4 CASES\n",
    "# waf to check weather the number is positive or negative with 4 cases\n",
    "'''case-1'''\n",
    "\n",
    "def rec_area():\n",
    "    L=int(input('enter the lenght of Rectangle'))\n",
    "    B=int(input(\"enternthe breath of rectangle\"))\n",
    "    A=L*B\n",
    "    print(A)\n",
    "rec_area()"
   ]
  },
  {
   "cell_type": "code",
   "execution_count": 8,
   "id": "84222d37",
   "metadata": {},
   "outputs": [
    {
     "name": "stdout",
     "output_type": "stream",
     "text": [
      "enter the lenght of Rectangle5\n",
      "enternthe breath of rectangle4\n",
      "20\n"
     ]
    }
   ],
   "source": [
    "'''case-2'''\n",
    "def rec_area(L1,B1):\n",
    "    A=L1*B1\n",
    "    print(A)\n",
    "L=int(input('enter the lenght of Rectangle'))\n",
    "B=int(input(\"enternthe breath of rectangle\"))\n",
    "rec_area(L,B)\n"
   ]
  },
  {
   "cell_type": "code",
   "execution_count": 7,
   "id": "93cf164a",
   "metadata": {},
   "outputs": [
    {
     "name": "stdout",
     "output_type": "stream",
     "text": [
      "enter the lenght of Rectangle4\n",
      "enternthe breath of rectangle6\n",
      "24\n"
     ]
    }
   ],
   "source": [
    "'''case-3'''\n",
    "def rec_area():\n",
    "    L=int(input('enter the lenght of Rectangle'))\n",
    "    B=int(input(\"enternthe breath of rectangle\"))\n",
    "    A=L*B\n",
    "    return A\n",
    "k=rec_area()\n",
    "print(k)\n",
    "    "
   ]
  },
  {
   "cell_type": "code",
   "execution_count": 8,
   "id": "cfb246e1",
   "metadata": {},
   "outputs": [
    {
     "data": {
      "text/plain": [
       "24"
      ]
     },
     "execution_count": 8,
     "metadata": {},
     "output_type": "execute_result"
    }
   ],
   "source": [
    "k\n"
   ]
  },
  {
   "cell_type": "code",
   "execution_count": 14,
   "id": "039547e2",
   "metadata": {},
   "outputs": [
    {
     "name": "stdout",
     "output_type": "stream",
     "text": [
      "enter the lenght of Rectangle5\n",
      "enternthe breath of rectangle4\n",
      "20\n"
     ]
    }
   ],
   "source": [
    "'''case-4'''\n",
    "def rec_area(L1,B1):\n",
    "    A=L1*B1\n",
    "    return A\n",
    "L=int(input('enter the lenght of Rectangle'))\n",
    "B=int(input(\"enternthe breath of rectangle\"))\n",
    "k=rec_area(L,B)\n",
    "print(k)\n",
    "    "
   ]
  },
  {
   "cell_type": "code",
   "execution_count": 9,
   "id": "ab4d6bcc",
   "metadata": {},
   "outputs": [
    {
     "data": {
      "text/plain": [
       "24"
      ]
     },
     "execution_count": 9,
     "metadata": {},
     "output_type": "execute_result"
    }
   ],
   "source": [
    "k\n",
    "\n"
   ]
  },
  {
   "cell_type": "code",
   "execution_count": 18,
   "id": "12c68b17",
   "metadata": {},
   "outputs": [
    {
     "name": "stdout",
     "output_type": "stream",
     "text": [
      "enter the number5\n",
      "5 positive number\n"
     ]
    }
   ],
   "source": [
    "# waf to check weather the number is positive or negative with 4 cases\n",
    "'''case-1'''\n",
    "def check():\n",
    "    num=int(input(\"enter the number\"))\n",
    "    if num>0:\n",
    "        print(num,\"positive number\")\n",
    "    else:\n",
    "        print(num,\"negative number\")\n",
    "check()"
   ]
  },
  {
   "cell_type": "code",
   "execution_count": 19,
   "id": "5473a636",
   "metadata": {},
   "outputs": [
    {
     "name": "stdout",
     "output_type": "stream",
     "text": [
      "enter the number8\n",
      "8 positive number\n"
     ]
    }
   ],
   "source": [
    "'''case-2'''\n",
    "def check(n1):\n",
    "    if n1>0:\n",
    "        print(n1,\"positive number\")\n",
    "    else:\n",
    "        print(n1,\"negative number\")\n",
    "num=int(input(\"enter the number\"))\n",
    "check(num)"
   ]
  },
  {
   "cell_type": "code",
   "execution_count": 21,
   "id": "bc729390",
   "metadata": {},
   "outputs": [
    {
     "name": "stdout",
     "output_type": "stream",
     "text": [
      "enter the number9\n",
      "9 positive number\n"
     ]
    }
   ],
   "source": [
    "'''case-3'''\n",
    "def check():\n",
    "    num=int(input(\"enter the number\"))\n",
    "    if num>0:\n",
    "        return num, 'positive number'\n",
    "    else:\n",
    "        return num,\"negative number\"\n",
    "i,j=check()\n",
    "print(i,j)"
   ]
  },
  {
   "cell_type": "code",
   "execution_count": 22,
   "id": "d6333e03",
   "metadata": {},
   "outputs": [
    {
     "name": "stdout",
     "output_type": "stream",
     "text": [
      "enter the number-8\n",
      "-8 negative number\n"
     ]
    }
   ],
   "source": [
    "'''case-4'''\n",
    "def check(n1):\n",
    "    if n1>0:\n",
    "        return n1,\"positive number\"\n",
    "    else:\n",
    "        return n1,\"negative number\"\n",
    "num=int(input(\"enter the number\"))\n",
    "i,j=check(num)\n",
    "print(i,j)\n"
   ]
  },
  {
   "cell_type": "markdown",
   "id": "654a8ce5",
   "metadata": {},
   "source": [
    "## Types of arguments\n",
    "#### 1 positional\n",
    "#### 2 default\n",
    "#### 3 keyword\n",
    "#### 4 variable"
   ]
  },
  {
   "cell_type": "markdown",
   "id": "719231a4",
   "metadata": {},
   "source": [
    "#### default function"
   ]
  },
  {
   "cell_type": "code",
   "execution_count": 31,
   "id": "5806529d",
   "metadata": {},
   "outputs": [
    {
     "name": "stdout",
     "output_type": "stream",
     "text": [
      "enter the number8\n"
     ]
    },
    {
     "data": {
      "text/plain": [
       "13"
      ]
     },
     "execution_count": 31,
     "metadata": {},
     "output_type": "execute_result"
    }
   ],
   "source": [
    "def add(num1,num2=5):# default function\n",
    "    c=num1+num2\n",
    "    return c\n",
    "n=int(input(\"enter the number\"))\n",
    "add(n)\n",
    "\n",
    "     \n",
    "    "
   ]
  },
  {
   "cell_type": "markdown",
   "id": "2d19565b",
   "metadata": {},
   "source": [
    "#### keyword argument"
   ]
  },
  {
   "cell_type": "code",
   "execution_count": 10,
   "id": "90f4270c",
   "metadata": {},
   "outputs": [
    {
     "name": "stdout",
     "output_type": "stream",
     "text": [
      "singh aman\n"
     ]
    },
    {
     "ename": "NameError",
     "evalue": "name 'firstname' is not defined",
     "output_type": "error",
     "traceback": [
      "\u001b[1;31m---------------------------------------------------------------------------\u001b[0m",
      "\u001b[1;31mNameError\u001b[0m                                 Traceback (most recent call last)",
      "Input \u001b[1;32mIn [10]\u001b[0m, in \u001b[0;36m<cell line: 5>\u001b[1;34m()\u001b[0m\n\u001b[0;32m      3\u001b[0m \u001b[38;5;66;03m#student(firstname=\"aman\", lastname=\"singh\")\u001b[39;00m\n\u001b[0;32m      4\u001b[0m student(firstname\u001b[38;5;241m=\u001b[39m\u001b[38;5;124m\"\u001b[39m\u001b[38;5;124msingh\u001b[39m\u001b[38;5;124m\"\u001b[39m, lastname\u001b[38;5;241m=\u001b[39m \u001b[38;5;124m\"\u001b[39m\u001b[38;5;124maman\u001b[39m\u001b[38;5;124m\"\u001b[39m)\n\u001b[1;32m----> 5\u001b[0m student(\u001b[43mfirstname\u001b[49m,lastname)\n",
      "\u001b[1;31mNameError\u001b[0m: name 'firstname' is not defined"
     ]
    }
   ],
   "source": [
    "def student(firstname, lastname):\n",
    "    print(firstname, lastname)\n",
    "#student(firstname=\"aman\", lastname=\"singh\")\n",
    "student(firstname=\"singh\", lastname= \"aman\")\n",
    "student(firstname,lastname)\n"
   ]
  },
  {
   "cell_type": "markdown",
   "id": "74c2a8a3",
   "metadata": {},
   "source": [
    "#### variable argument"
   ]
  },
  {
   "cell_type": "code",
   "execution_count": 16,
   "id": "f1295bfd",
   "metadata": {},
   "outputs": [
    {
     "name": "stdout",
     "output_type": "stream",
     "text": [
      "<class 'tuple'>\n",
      "7\n",
      "<class 'tuple'>\n",
      "12\n"
     ]
    }
   ],
   "source": [
    "def add(*args):\n",
    "    sum1=0\n",
    "    print(type(args))\n",
    "    for i in args:\n",
    "        sum1=sum1+i\n",
    "    print(sum1)\n",
    "add(2,5)\n",
    "add(3,9)"
   ]
  },
  {
   "cell_type": "code",
   "execution_count": 17,
   "id": "2ea79a53",
   "metadata": {},
   "outputs": [
    {
     "name": "stdout",
     "output_type": "stream",
     "text": [
      "<class 'tuple'>\n",
      "12\n"
     ]
    }
   ],
   "source": [
    "add(2,3,7)"
   ]
  },
  {
   "cell_type": "markdown",
   "id": "8b94e95d",
   "metadata": {},
   "source": [
    "#### keyword argument"
   ]
  },
  {
   "cell_type": "code",
   "execution_count": 20,
   "id": "d236e474",
   "metadata": {},
   "outputs": [
    {
     "name": "stdout",
     "output_type": "stream",
     "text": [
      "first Gs\n",
      "mid for\n",
      "last Gs\n",
      "first ban\n",
      "mid akjak\n"
     ]
    }
   ],
   "source": [
    "def myfun(**kwargs):\n",
    "    for key, value in kwargs.items():\n",
    "        print(key,value)\n",
    "myfun(first=\"Gs\", mid=\"for\", last=\"Gs\")\n",
    "myfun(first=\"ban\", mid=\"akjak\")\n",
    "                "
   ]
  },
  {
   "cell_type": "markdown",
   "id": "4025792e",
   "metadata": {},
   "source": [
    "## scope and lifetime"
   ]
  },
  {
   "cell_type": "code",
   "execution_count": 21,
   "id": "867a0af9",
   "metadata": {},
   "outputs": [
    {
     "ename": "IndentationError",
     "evalue": "unexpected indent (3643617465.py, line 3)",
     "output_type": "error",
     "traceback": [
      "\u001b[1;36m  Input \u001b[1;32mIn [21]\u001b[1;36m\u001b[0m\n\u001b[1;33m    a=2 # local scope\u001b[0m\n\u001b[1;37m    ^\u001b[0m\n\u001b[1;31mIndentationError\u001b[0m\u001b[1;31m:\u001b[0m unexpected indent\n"
     ]
    }
   ],
   "source": [
    "#scope means area and region \n",
    "#def check():\n",
    "    a=2 # local scope\n",
    "    print=(a)\n",
    "b=3# global scope\n",
    " \n",
    "\n"
   ]
  },
  {
   "cell_type": "code",
   "execution_count": 22,
   "id": "8c063678",
   "metadata": {},
   "outputs": [
    {
     "name": "stdout",
     "output_type": "stream",
     "text": [
      "b..... 3\n",
      "a..... 20\n",
      "global a 20\n"
     ]
    }
   ],
   "source": [
    "a=20# global\n",
    "def check():\n",
    "    b=3\n",
    "    print(\"b.....\",b)# local\n",
    "    print(\"a.....\",a)\n",
    "check()\n",
    "print(\"global a\",a)\n",
    "#print(\"local b\",b)"
   ]
  },
  {
   "cell_type": "code",
   "execution_count": 23,
   "id": "449ce0ae",
   "metadata": {},
   "outputs": [
    {
     "name": "stdout",
     "output_type": "stream",
     "text": [
      "b..... 3\n",
      "a..... 20\n",
      "global a 20\n"
     ]
    },
    {
     "ename": "NameError",
     "evalue": "name 'b' is not defined",
     "output_type": "error",
     "traceback": [
      "\u001b[1;31m---------------------------------------------------------------------------\u001b[0m",
      "\u001b[1;31mNameError\u001b[0m                                 Traceback (most recent call last)",
      "Input \u001b[1;32mIn [23]\u001b[0m, in \u001b[0;36m<cell line: 8>\u001b[1;34m()\u001b[0m\n\u001b[0;32m      6\u001b[0m check()\n\u001b[0;32m      7\u001b[0m \u001b[38;5;28mprint\u001b[39m(\u001b[38;5;124m\"\u001b[39m\u001b[38;5;124mglobal a\u001b[39m\u001b[38;5;124m\"\u001b[39m,a)\n\u001b[1;32m----> 8\u001b[0m \u001b[38;5;28mprint\u001b[39m(\u001b[38;5;124m\"\u001b[39m\u001b[38;5;124mlocal b\u001b[39m\u001b[38;5;124m\"\u001b[39m,\u001b[43mb\u001b[49m)\n",
      "\u001b[1;31mNameError\u001b[0m: name 'b' is not defined"
     ]
    }
   ],
   "source": [
    "a=20\n",
    "def check():\n",
    "    b=3\n",
    "    print(\"b.....\",b)\n",
    "    print(\"a.....\",a)\n",
    "check()\n",
    "print(\"global a\",a)\n",
    "print(\"local b\",b)# because it is local so it cannot comesout"
   ]
  },
  {
   "cell_type": "code",
   "execution_count": 24,
   "id": "bc7d5248",
   "metadata": {},
   "outputs": [
    {
     "name": "stdout",
     "output_type": "stream",
     "text": [
      "a.....local 3\n",
      "global a 20\n"
     ]
    }
   ],
   "source": [
    "# same name\n",
    "a=20\n",
    "def check():\n",
    "    a=3\n",
    "    print(\"a.....local\",a)\n",
    "    \n",
    "check()\n",
    "print(\"global a\",a)\n"
   ]
  },
  {
   "cell_type": "code",
   "execution_count": 26,
   "id": "3c3e1288",
   "metadata": {},
   "outputs": [
    {
     "name": "stdout",
     "output_type": "stream",
     "text": [
      "b..... 21\n",
      "20\n",
      "a...local 3\n",
      "global 3\n"
     ]
    }
   ],
   "source": [
    "a=20\n",
    "b=21\n",
    "def check():\n",
    "    global a # relacing the value of global variable\n",
    "    print(\"b.....\",b)\n",
    "    print(a)\n",
    "    a=3\n",
    "    print(\"a...local\",a)\n",
    "check()\n",
    "print(\"global\",a)"
   ]
  },
  {
   "cell_type": "code",
   "execution_count": 28,
   "id": "1e336d1b",
   "metadata": {},
   "outputs": [
    {
     "name": "stdout",
     "output_type": "stream",
     "text": [
      "hello hi\n",
      "python is boring\n",
      "hello\n",
      "data science\n",
      "how are you\n",
      "data science hi\n"
     ]
    }
   ],
   "source": [
    "a='hello'\n",
    "b=\"hi\"\n",
    "def madrid(aa,bb):\n",
    "    print(aa,bb)\n",
    "    global a\n",
    "    aa=\"python is boring\"\n",
    "    print(aa)\n",
    "    a1=\"how are you\"\n",
    "    print(a)\n",
    "    a='data science'\n",
    "    print(a)\n",
    "    return a1\n",
    "    print('i am doing good')\n",
    "k=madrid(a,b)\n",
    "print(k)\n",
    "print(a,b)\n",
    "\n"
   ]
  },
  {
   "cell_type": "markdown",
   "id": "51c972c8",
   "metadata": {},
   "source": [
    "## Recursion\n",
    "\n",
    "### A function is said to be recursive function if it calls itself"
   ]
  },
  {
   "cell_type": "code",
   "execution_count": 2,
   "id": "7e276a37",
   "metadata": {},
   "outputs": [
    {
     "name": "stdout",
     "output_type": "stream",
     "text": [
      "entrt the number5\n",
      "120\n"
     ]
    }
   ],
   "source": [
    "n=int(input(\"entrt the number\"))\n",
    "def factorial(num):\n",
    "    if num==1:\n",
    "        return 1\n",
    "    else:\n",
    "        return num*factorial(num-1)\n",
    "if n<0:\n",
    "    print(\"factorial of \",n,\"does not exit\")\n",
    "elif n==0:\n",
    "    print(\"factorial of 1 is\",1)\n",
    "else:\n",
    "    result=factorial(n)\n",
    "    print(result)"
   ]
  },
  {
   "cell_type": "code",
   "execution_count": 7,
   "id": "1efaa294",
   "metadata": {},
   "outputs": [
    {
     "name": "stdout",
     "output_type": "stream",
     "text": [
      "enter the number5\n"
     ]
    },
    {
     "data": {
      "text/plain": [
       "5"
      ]
     },
     "execution_count": 7,
     "metadata": {},
     "output_type": "execute_result"
    }
   ],
   "source": [
    "#take the value from user you have to print \n",
    "# n=5 \n",
    "# 5,4,3,2,1\n",
    "n=int(input(\"enter the number\"))\n",
    "def counting(num):\n",
    "    for i in range(num,0,-1):\n",
    "        return i\n",
    "counting(n)"
   ]
  },
  {
   "cell_type": "markdown",
   "id": "fbd3b2be",
   "metadata": {},
   "source": [
    "## modules\n",
    " ### it is a library"
   ]
  },
  {
   "cell_type": "code",
   "execution_count": 33,
   "id": "611d6947",
   "metadata": {},
   "outputs": [],
   "source": [
    "import math"
   ]
  },
  {
   "cell_type": "code",
   "execution_count": 34,
   "id": "b33809ac",
   "metadata": {},
   "outputs": [
    {
     "data": {
      "text/plain": [
       "['__doc__',\n",
       " '__loader__',\n",
       " '__name__',\n",
       " '__package__',\n",
       " '__spec__',\n",
       " 'acos',\n",
       " 'acosh',\n",
       " 'asin',\n",
       " 'asinh',\n",
       " 'atan',\n",
       " 'atan2',\n",
       " 'atanh',\n",
       " 'ceil',\n",
       " 'comb',\n",
       " 'copysign',\n",
       " 'cos',\n",
       " 'cosh',\n",
       " 'degrees',\n",
       " 'dist',\n",
       " 'e',\n",
       " 'erf',\n",
       " 'erfc',\n",
       " 'exp',\n",
       " 'expm1',\n",
       " 'fabs',\n",
       " 'factorial',\n",
       " 'floor',\n",
       " 'fmod',\n",
       " 'frexp',\n",
       " 'fsum',\n",
       " 'gamma',\n",
       " 'gcd',\n",
       " 'hypot',\n",
       " 'inf',\n",
       " 'isclose',\n",
       " 'isfinite',\n",
       " 'isinf',\n",
       " 'isnan',\n",
       " 'isqrt',\n",
       " 'lcm',\n",
       " 'ldexp',\n",
       " 'lgamma',\n",
       " 'log',\n",
       " 'log10',\n",
       " 'log1p',\n",
       " 'log2',\n",
       " 'modf',\n",
       " 'nan',\n",
       " 'nextafter',\n",
       " 'perm',\n",
       " 'pi',\n",
       " 'pow',\n",
       " 'prod',\n",
       " 'radians',\n",
       " 'remainder',\n",
       " 'sin',\n",
       " 'sinh',\n",
       " 'sqrt',\n",
       " 'tan',\n",
       " 'tanh',\n",
       " 'tau',\n",
       " 'trunc',\n",
       " 'ulp']"
      ]
     },
     "execution_count": 34,
     "metadata": {},
     "output_type": "execute_result"
    }
   ],
   "source": [
    "dir(math)"
   ]
  },
  {
   "cell_type": "code",
   "execution_count": 35,
   "id": "5a5c3188",
   "metadata": {},
   "outputs": [],
   "source": [
    "import math"
   ]
  },
  {
   "cell_type": "code",
   "execution_count": 41,
   "id": "b415c150",
   "metadata": {},
   "outputs": [
    {
     "data": {
      "text/plain": [
       "2"
      ]
     },
     "execution_count": 41,
     "metadata": {},
     "output_type": "execute_result"
    }
   ],
   "source": [
    "math.floor(2)"
   ]
  },
  {
   "cell_type": "code",
   "execution_count": 37,
   "id": "40171c99",
   "metadata": {},
   "outputs": [
    {
     "data": {
      "text/plain": [
       "2"
      ]
     },
     "execution_count": 37,
     "metadata": {},
     "output_type": "execute_result"
    }
   ],
   "source": [
    "math.floor(2.1)"
   ]
  },
  {
   "cell_type": "code",
   "execution_count": 38,
   "id": "79c12ccd",
   "metadata": {},
   "outputs": [
    {
     "data": {
      "text/plain": [
       "-3"
      ]
     },
     "execution_count": 38,
     "metadata": {},
     "output_type": "execute_result"
    }
   ],
   "source": [
    "math.floor(-2.1)"
   ]
  },
  {
   "cell_type": "code",
   "execution_count": 42,
   "id": "8f873e87",
   "metadata": {},
   "outputs": [
    {
     "data": {
      "text/plain": [
       "2"
      ]
     },
     "execution_count": 42,
     "metadata": {},
     "output_type": "execute_result"
    }
   ],
   "source": [
    "math.ceil(2)"
   ]
  },
  {
   "cell_type": "code",
   "execution_count": 39,
   "id": "b8d3195c",
   "metadata": {},
   "outputs": [
    {
     "data": {
      "text/plain": [
       "3"
      ]
     },
     "execution_count": 39,
     "metadata": {},
     "output_type": "execute_result"
    }
   ],
   "source": [
    "math.ceil(2.5)"
   ]
  },
  {
   "cell_type": "code",
   "execution_count": 40,
   "id": "cce8d235",
   "metadata": {},
   "outputs": [
    {
     "data": {
      "text/plain": [
       "-3"
      ]
     },
     "execution_count": 40,
     "metadata": {},
     "output_type": "execute_result"
    }
   ],
   "source": [
    "math.ceil(-3.1)"
   ]
  },
  {
   "cell_type": "code",
   "execution_count": 43,
   "id": "7cbe2ee3",
   "metadata": {},
   "outputs": [
    {
     "data": {
      "text/plain": [
       "2.46"
      ]
     },
     "execution_count": 43,
     "metadata": {},
     "output_type": "execute_result"
    }
   ],
   "source": [
    "round(2.4567,2)"
   ]
  },
  {
   "cell_type": "code",
   "execution_count": 44,
   "id": "2f481e18",
   "metadata": {},
   "outputs": [
    {
     "data": {
      "text/plain": [
       "3"
      ]
     },
     "execution_count": 44,
     "metadata": {},
     "output_type": "execute_result"
    }
   ],
   "source": [
    "round(2.84444)"
   ]
  },
  {
   "cell_type": "code",
   "execution_count": 46,
   "id": "bd536e78",
   "metadata": {},
   "outputs": [
    {
     "data": {
      "text/plain": [
       "24"
      ]
     },
     "execution_count": 46,
     "metadata": {},
     "output_type": "execute_result"
    }
   ],
   "source": [
    "math.factorial(4)"
   ]
  },
  {
   "cell_type": "code",
   "execution_count": 47,
   "id": "774adcdf",
   "metadata": {},
   "outputs": [],
   "source": [
    "import random"
   ]
  },
  {
   "cell_type": "code",
   "execution_count": 52,
   "id": "be39b889",
   "metadata": {},
   "outputs": [
    {
     "data": {
      "text/plain": [
       "95"
      ]
     },
     "execution_count": 52,
     "metadata": {},
     "output_type": "execute_result"
    }
   ],
   "source": [
    "random.randint(1,100)\n"
   ]
  },
  {
   "cell_type": "code",
   "execution_count": 55,
   "id": "10d90528",
   "metadata": {},
   "outputs": [
    {
     "data": {
      "text/plain": [
       "[5, 3, 2, 4]"
      ]
     },
     "execution_count": 55,
     "metadata": {},
     "output_type": "execute_result"
    }
   ],
   "source": [
    "a=[2,3,4,5]\n",
    "random.shuffle(a)\n",
    "a"
   ]
  },
  {
   "cell_type": "code",
   "execution_count": 56,
   "id": "a6f10a57",
   "metadata": {},
   "outputs": [],
   "source": [
    "import time"
   ]
  },
  {
   "cell_type": "code",
   "execution_count": 57,
   "id": "6d1ee992",
   "metadata": {},
   "outputs": [
    {
     "data": {
      "text/plain": [
       "1664267771.3738313"
      ]
     },
     "execution_count": 57,
     "metadata": {},
     "output_type": "execute_result"
    }
   ],
   "source": [
    "time.time()"
   ]
  },
  {
   "cell_type": "code",
   "execution_count": 58,
   "id": "3d109912",
   "metadata": {},
   "outputs": [
    {
     "data": {
      "text/plain": [
       "'Tue Sep 27 14:07:23 2022'"
      ]
     },
     "execution_count": 58,
     "metadata": {},
     "output_type": "execute_result"
    }
   ],
   "source": [
    "time.ctime()"
   ]
  },
  {
   "cell_type": "code",
   "execution_count": 59,
   "id": "13013217",
   "metadata": {},
   "outputs": [
    {
     "name": "stdout",
     "output_type": "stream",
     "text": [
      "hellow\n",
      "hello\n"
     ]
    }
   ],
   "source": [
    "print(\"hellow\")\n",
    "time.sleep(2)\n",
    "print(\"hello\")"
   ]
  },
  {
   "cell_type": "code",
   "execution_count": 60,
   "id": "0a4cacbd",
   "metadata": {},
   "outputs": [
    {
     "data": {
      "text/plain": [
       "'C:\\\\Users\\\\rajat\\\\pythoncode'"
      ]
     },
     "execution_count": 60,
     "metadata": {},
     "output_type": "execute_result"
    }
   ],
   "source": [
    "import os\n",
    "os.getcwd()"
   ]
  },
  {
   "cell_type": "code",
   "execution_count": 61,
   "id": "c9fb6fe1",
   "metadata": {},
   "outputs": [
    {
     "data": {
      "text/plain": [
       "['.ipynb_checkpoints',\n",
       " 'class 1,2 and 3.ipynb',\n",
       " 'conditional statements (1).ipynb',\n",
       " 'conditions based programs.ipynb',\n",
       " 'Functions.ipynb',\n",
       " 'RAJAT assignment -3.ipynb']"
      ]
     },
     "execution_count": 61,
     "metadata": {},
     "output_type": "execute_result"
    }
   ],
   "source": [
    "os.listdir()"
   ]
  },
  {
   "cell_type": "code",
   "execution_count": 1,
   "id": "31911c89",
   "metadata": {},
   "outputs": [],
   "source": [
    "def add(n1,n2):\n",
    "    '''this is for addition of two numbers'''\n",
    "    s=n1+n2\n",
    "    print(s)"
   ]
  },
  {
   "cell_type": "code",
   "execution_count": 2,
   "id": "1c41d047",
   "metadata": {},
   "outputs": [
    {
     "ename": "TypeError",
     "evalue": "add() missing 2 required positional arguments: 'n1' and 'n2'",
     "output_type": "error",
     "traceback": [
      "\u001b[1;31m---------------------------------------------------------------------------\u001b[0m",
      "\u001b[1;31mTypeError\u001b[0m                                 Traceback (most recent call last)",
      "Input \u001b[1;32mIn [2]\u001b[0m, in \u001b[0;36m<cell line: 1>\u001b[1;34m()\u001b[0m\n\u001b[1;32m----> 1\u001b[0m \u001b[43madd\u001b[49m\u001b[43m(\u001b[49m\u001b[43m)\u001b[49m\n",
      "\u001b[1;31mTypeError\u001b[0m: add() missing 2 required positional arguments: 'n1' and 'n2'"
     ]
    }
   ],
   "source": [
    "add()"
   ]
  },
  {
   "cell_type": "code",
   "execution_count": 4,
   "id": "5e7ae774",
   "metadata": {},
   "outputs": [
    {
     "name": "stdout",
     "output_type": "stream",
     "text": [
      "this is for addition of two numbers\n"
     ]
    }
   ],
   "source": [
    "print(add.__doc__)"
   ]
  },
  {
   "cell_type": "code",
   "execution_count": null,
   "id": "73c98b31",
   "metadata": {},
   "outputs": [],
   "source": []
  }
 ],
 "metadata": {
  "kernelspec": {
   "display_name": "Python 3 (ipykernel)",
   "language": "python",
   "name": "python3"
  },
  "language_info": {
   "codemirror_mode": {
    "name": "ipython",
    "version": 3
   },
   "file_extension": ".py",
   "mimetype": "text/x-python",
   "name": "python",
   "nbconvert_exporter": "python",
   "pygments_lexer": "ipython3",
   "version": "3.9.12"
  }
 },
 "nbformat": 4,
 "nbformat_minor": 5
}
